{
  "nbformat": 4,
  "nbformat_minor": 0,
  "metadata": {
    "colab": {
      "provenance": [],
      "authorship_tag": "ABX9TyN/iSCWaMPZdRRpLd2Ye+Sc",
      "include_colab_link": true
    },
    "kernelspec": {
      "name": "python3",
      "display_name": "Python 3"
    },
    "language_info": {
      "name": "python"
    }
  },
  "cells": [
    {
      "cell_type": "markdown",
      "metadata": {
        "id": "view-in-github",
        "colab_type": "text"
      },
      "source": [
        "<a href=\"https://colab.research.google.com/github/Prabhat-Datre/BTE320/blob/main/Deposit_with_interest_rates.ipynb\" target=\"_parent\"><img src=\"https://colab.research.google.com/assets/colab-badge.svg\" alt=\"Open In Colab\"/></a>"
      ]
    },
    {
      "cell_type": "code",
      "execution_count": null,
      "metadata": {
        "id": "RJgPcglhRaZy"
      },
      "outputs": [],
      "source": [
        "Name = input('Hi, please entring your name: ')\n",
        "Cust_type = input('Enter customer type (n: new, e:existing): ')\n",
        "Deposit = float(input('Enter deposit amount:  $'))\n",
        "\n",
        "if Cust_type == 'n':\n",
        "  Interest == 0.03\n",
        "else:\n",
        "  if Deposit <= 1000:\n",
        "    Interest = float(0.03)\n",
        "  elif Deposit <= 10000:\n",
        "    Interest = float(0.0325)\n",
        "  elif Deposit > 10000:\n",
        "    Interest = float(0.035)\n",
        "\n",
        "Amount = (1 + Interest) * Deposit\n",
        "print(f'{Name}, you will have ${round(Amount, 2)} in your account!')"
      ]
    }
  ]
}