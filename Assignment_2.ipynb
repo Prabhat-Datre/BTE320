{
  "nbformat": 4,
  "nbformat_minor": 0,
  "metadata": {
    "colab": {
      "provenance": [],
      "include_colab_link": true
    },
    "kernelspec": {
      "name": "python3",
      "display_name": "Python 3"
    },
    "language_info": {
      "name": "python"
    }
  },
  "cells": [
    {
      "cell_type": "markdown",
      "metadata": {
        "id": "view-in-github",
        "colab_type": "text"
      },
      "source": [
        "<a href=\"https://colab.research.google.com/github/Prabhat-Datre/BTE320/blob/main/Assignment_2.ipynb\" target=\"_parent\"><img src=\"https://colab.research.google.com/assets/colab-badge.svg\" alt=\"Open In Colab\"/></a>"
      ]
    },
    {
      "cell_type": "markdown",
      "source": [
        "# Problem Set 2"
      ],
      "metadata": {
        "id": "mqKVIuY-mxNU"
      }
    },
    {
      "cell_type": "markdown",
      "source": [
        "## Assignment 1: Quality Control (7 points)\n",
        "\n",
        "A quality control manager would like to find the average weight of a list of weights. Prior experience indicates that the first two measures are atypical, and the practice is to exclude these from the average calculation.\n",
        "\n",
        "Write a program that calculates the average of a list of numbers that given as inputs from the user, excluding the first three values.\n",
        "\n",
        "For your program, you must define and use the following functions:\n",
        "- `getValues(n)`: Prompt the user for `n` values, returns the list\n",
        "- `calcAverage(alist)`: Calculates the average from the list"
      ],
      "metadata": {
        "id": "-RSYW1jVm08n"
      }
    },
    {
      "cell_type": "code",
      "execution_count": null,
      "metadata": {
        "id": "AqbgJkgNmvQw",
        "colab": {
          "base_uri": "https://localhost:8080/"
        },
        "outputId": "60f3133b-339d-4320-e1c8-aedd2a36c12a"
      },
      "outputs": [
        {
          "output_type": "stream",
          "name": "stdout",
          "text": [
            "Enter the length of the list 2\n",
            "Enter weights:10\n",
            "Enter weights:20\n",
            "None\n"
          ]
        }
      ],
      "source": [
        "def getValues(n):\n",
        "    L = []\n",
        "    for i in range(n):\n",
        "        weights = float(input(\"Enter weights:\"))\n",
        "        L.append(weights)\n",
        "    return L[3:]\n",
        "\n",
        "def calcAverage(alist):\n",
        "    sum = 0\n",
        "    for i in range(len(alist)):\n",
        "        sum += alist[i]\n",
        "    if sum>0:\n",
        "        return (sum/len(alist))\n",
        "\n",
        "alist = getValues(int(input(\"Enter the length of the list \")))\n",
        "avg = calcAverage(alist)\n",
        "print(avg)"
      ]
    },
    {
      "cell_type": "markdown",
      "source": [
        "## Assignment 2: Country Statistics Lookup-Multiple Measures (6 points)\n",
        "\n",
        "Assume a program begins with the statement:\n",
        "\n",
        "```python\n",
        "allData = { # dictionary of values for countries\n",
        "    'US': {'pop':325.7, 'gdp': 19.39, 'ccy': 'USD', 'fx':  1.0},\n",
        "    'CA': {'pop': 36.5, 'gdp':  1.65, 'ccy': 'CAD', 'fx':  1.35},\n",
        "    'MX': {'pop':129.2, 'gdp':  1.15, 'ccy': 'MXN', 'fx': 19.68}\n",
        "    }\n",
        "```\n",
        "\n",
        "Write subsequent statements that (in a loop) prompt the user for a country code (`US`, `CA`, or `MX`), then prompt for a measure name (`pop`, `gdp`, `ccy`, or `fx`), then look up in the above dictionary for the corresponding value, and display it.\n",
        "\n",
        "Example run:\n",
        "```\n",
        "Please enter a country code: CA\n",
        "Please enter a statistic: pop\n",
        "CA pop = 36.5\n",
        "```\n",
        "\n",
        "Your program should handle the cases where a user-entered country code or measure name is not found."
      ],
      "metadata": {
        "id": "QFO0Kzx8ncnv"
      }
    },
    {
      "cell_type": "code",
      "source": [
        "allData = { # dictionary of values for countries\n",
        "    'US': {'pop':325.7, 'gdp': 19.39, 'ccy': 'USD', 'fx':  1.0},\n",
        "    'CA': {'pop': 36.5, 'gdp':  1.65, 'ccy': 'CAD', 'fx':  1.35},\n",
        "    'MX': {'pop':129.2, 'gdp':  1.15, 'ccy': 'MXN', 'fx': 19.68}\n",
        "    }\n",
        "cond = True\n",
        "while cond:\n",
        "  countryCode = input(\"Please enter a country code (US, CA, or MX): \")\n",
        "  if countryCode not in allData.keys():\n",
        "    print(\"Please enter a valid country code\")\n",
        "    cond = False\n",
        "  else:\n",
        "    statistic = input (\"Please enter a statistic (pop, gdp, ccy, fx): \")\n",
        "    if statistic not in allData[countryCode].keys():\n",
        "      print(\"Please enter a valid statistic\")\n",
        "      cond = False\n",
        "    else:\n",
        "      print(f\"{countryCode} {statistic} = {allData[countryCode][statistic]}\")\n",
        "      cond = False\n"
      ],
      "metadata": {
        "id": "NZFjRINKowEW",
        "colab": {
          "base_uri": "https://localhost:8080/"
        },
        "outputId": "f8ded8d5-ac85-401f-ed7e-395ae4d1778a"
      },
      "execution_count": null,
      "outputs": [
        {
          "output_type": "stream",
          "name": "stdout",
          "text": [
            "Please enter a country code (US, CA, or MX): US\n",
            "Please enter a statistic (pop, gdp, ccy, fx): pp\n",
            "Please enter a valid statistic\n"
          ]
        }
      ]
    },
    {
      "cell_type": "markdown",
      "source": [
        "## Assignment 3: Parking Garage (6 points)\n",
        "\n",
        "Write a program to compute the fee for parking in a garage for a number of hours.\n",
        "\n",
        "The program should:\n",
        "- Prompt the user for how many hours parked\n",
        "- Calculate the fee based on the following rules:\n",
        "  - $2.50/hour\n",
        "\n",
        "  - minimum fee is $6.00\n",
        "\n",
        "  - maximum fee is $20.00\n",
        "- Print the result\n",
        "\n",
        "For your program, define and use the following two functions:\n",
        "```python\n",
        "# use input() to prompt for the # of hours parked, return this value\n",
        "def getParkingHours()\n",
        "\n",
        "# takes as input hours (a number), returns the parking fee\n",
        "def calcParkingFee()\n",
        "```"
      ],
      "metadata": {
        "id": "GjaUFrnfpKFf"
      }
    },
    {
      "cell_type": "code",
      "source": [
        "def getParkingHours():\n",
        "    h = int(input(\"Enter number of hours parked: \"))\n",
        "    return h\n",
        "\n",
        "def calcParkingFee():\n",
        "    h = getParkingHours()\n",
        "    minFee = 6\n",
        "    maxFee = 20\n",
        "    fee = 2.50 * h\n",
        "    if h<=2.50:\n",
        "        return minFee\n",
        "    elif h>=20:\n",
        "        return maxFee\n",
        "    else:\n",
        "      print(f\"Your fee is {fee}\")\n",
        "\n",
        "calcParkingFee()"
      ],
      "metadata": {
        "id": "BxqHoS0-Jh3Z",
        "colab": {
          "base_uri": "https://localhost:8080/"
        },
        "outputId": "2078b4f5-28bc-4180-8944-3175ddbb14a1"
      },
      "execution_count": null,
      "outputs": [
        {
          "output_type": "stream",
          "name": "stdout",
          "text": [
            "Enter number of hours parked: 5\n",
            "Your fee is 12.5\n"
          ]
        }
      ]
    },
    {
      "cell_type": "markdown",
      "source": [
        "## Assignment 4: Tuition (6 points)\n",
        "\n",
        "A college charges tuition according to the following:\n",
        "- 12 or more credits: $20,000/semester\n",
        "\n",
        "- 1-11 credits: $1,200 + $1,700 per credit\n",
        "\n",
        "Write a program that prompts the user for a number of credits and determines and displays the tuition for the semester. As part of your program, define and use the following function:\n",
        "```python\n",
        "def calcTuition(credits)\n",
        "```\n",
        "The function returns the tuition for a given number of credits"
      ],
      "metadata": {
        "id": "gipBObe5qm-2"
      }
    },
    {
      "cell_type": "code",
      "source": [
        "def calcTuition(credits):\n",
        "  tuition = 0\n",
        "  if credits >= 12:\n",
        "    tuition = 20000\n",
        "    return tuition\n",
        "  else:\n",
        "    tuition = 1200 + (1700*credits)\n",
        "    return tuition\n",
        "\n",
        "credits = int(input(\"Enter the number of credits:\"))\n",
        "print(f\"The tuition for the semester is ${calcTuition(credits)}\")"
      ],
      "metadata": {
        "id": "BPcn9ywzrL8y",
        "colab": {
          "base_uri": "https://localhost:8080/"
        },
        "outputId": "f5631d18-b234-4229-dcf2-e83e9536ff27"
      },
      "execution_count": null,
      "outputs": [
        {
          "output_type": "stream",
          "name": "stdout",
          "text": [
            "Enter the number of credits:5\n",
            "The tuition for the semester is $9700\n"
          ]
        }
      ]
    },
    {
      "cell_type": "code",
      "source": [],
      "metadata": {
        "id": "sAMZ-WulIGZ_"
      },
      "execution_count": null,
      "outputs": []
    }
  ]
}