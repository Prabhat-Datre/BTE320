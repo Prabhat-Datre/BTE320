{
  "nbformat": 4,
  "nbformat_minor": 0,
  "metadata": {
    "colab": {
      "provenance": [],
      "authorship_tag": "ABX9TyMR91KCD/ra+uMck0n1qZix",
      "include_colab_link": true
    },
    "kernelspec": {
      "name": "python3",
      "display_name": "Python 3"
    },
    "language_info": {
      "name": "python"
    }
  },
  "cells": [
    {
      "cell_type": "markdown",
      "metadata": {
        "id": "view-in-github",
        "colab_type": "text"
      },
      "source": [
        "<a href=\"https://colab.research.google.com/github/Prabhat-Datre/BTE320/blob/main/Calculator.ipynb\" target=\"_parent\"><img src=\"https://colab.research.google.com/assets/colab-badge.svg\" alt=\"Open In Colab\"/></a>"
      ]
    },
    {
      "cell_type": "code",
      "execution_count": null,
      "metadata": {
        "id": "tSZLfICmONeS"
      },
      "outputs": [],
      "source": [
        "from ast import Break\n",
        "while True:\n",
        "\n",
        "  print(\"Enter an operator\")\n",
        "  operator = input(\"\")\n",
        "\n",
        "  if operator == \"break\":\n",
        "    print('Goodbye!')\n",
        "    break\n",
        "\n",
        "  print(\"Enter 2 numbers\")\n",
        "  N1 = float(input('Enter first number:'))\n",
        "  N2 = float(input(\"Enter second number:\"))\n",
        "\n",
        "  if operator == \"+\":\n",
        "    print(N1 + N2)\n",
        "\n",
        "  elif operator == \"-\":\n",
        "    print(N1 - N2)\n",
        "\n",
        "  elif operator == \"*\":\n",
        "    print(N1 * N2)\n",
        "\n",
        "  elif operator == \"**\":\n",
        "    print(N1 ** N2)\n",
        "\n",
        "  elif operator == \"/\":\n",
        "    print(N1 / N2)\n",
        "\n",
        "  elif operator == \"//\":\n",
        "    print(N1 // N2)\n",
        "\n",
        "  elif operator == \"%\":\n",
        "    print(N1 % N2)\n",
        "\n",
        "  else:\n",
        "    print(f'Invalid operator:\\'{operator}')\n",
        "    continue\n",
        "\n",
        "\n"
      ]
    }
  ]
}