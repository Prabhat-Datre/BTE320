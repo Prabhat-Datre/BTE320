{
  "nbformat": 4,
  "nbformat_minor": 0,
  "metadata": {
    "colab": {
      "provenance": [],
      "authorship_tag": "ABX9TyM/B375qxmaqU0v+MYP/tuX",
      "include_colab_link": true
    },
    "kernelspec": {
      "name": "python3",
      "display_name": "Python 3"
    },
    "language_info": {
      "name": "python"
    }
  },
  "cells": [
    {
      "cell_type": "markdown",
      "metadata": {
        "id": "view-in-github",
        "colab_type": "text"
      },
      "source": [
        "<a href=\"https://colab.research.google.com/github/Prabhat-Datre/BTE320/blob/main/Parking_Garage_Problem.ipynb\" target=\"_parent\"><img src=\"https://colab.research.google.com/assets/colab-badge.svg\" alt=\"Open In Colab\"/></a>"
      ]
    },
    {
      "cell_type": "code",
      "execution_count": null,
      "metadata": {
        "id": "DYxszsH3R729"
      },
      "outputs": [],
      "source": [
        "hours = int(input('Enter number of hours parked: '))\n",
        "fee = hours * 2.5\n",
        "if fee <= 6:\n",
        "  print(6)\n",
        "elif fee >=20:\n",
        "  print(20)\n",
        "else:\n",
        "  print(f'The parking fee is ${fee}')"
      ]
    }
  ]
}