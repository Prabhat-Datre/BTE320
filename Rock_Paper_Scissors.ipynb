{
  "nbformat": 4,
  "nbformat_minor": 0,
  "metadata": {
    "colab": {
      "provenance": [],
      "authorship_tag": "ABX9TyML9iReWhaOlcUXlivmlwlx",
      "include_colab_link": true
    },
    "kernelspec": {
      "name": "python3",
      "display_name": "Python 3"
    },
    "language_info": {
      "name": "python"
    }
  },
  "cells": [
    {
      "cell_type": "markdown",
      "metadata": {
        "id": "view-in-github",
        "colab_type": "text"
      },
      "source": [
        "<a href=\"https://colab.research.google.com/github/Prabhat-Datre/BTE320/blob/main/Rock_Paper_Scissors.ipynb\" target=\"_parent\"><img src=\"https://colab.research.google.com/assets/colab-badge.svg\" alt=\"Open In Colab\"/></a>"
      ]
    },
    {
      "cell_type": "code",
      "execution_count": 10,
      "metadata": {
        "colab": {
          "base_uri": "https://localhost:8080/"
        },
        "id": "OQ3lCDDXSeys",
        "outputId": "348e65de-6cf9-4dd9-a6aa-12deeedf6cb5"
      },
      "outputs": [
        {
          "output_type": "stream",
          "name": "stdout",
          "text": [
            "Enter your choice (Rock, Paper, or Scissors)Rock\n",
            "You chose: Rock\n",
            "Computer chose: Paper\n",
            "Computer wins!\n"
          ]
        }
      ],
      "source": [
        "import random\n",
        "\n",
        "User_choice = input(\"Enter your choice (Rock, Paper, or Scissors)\")\n",
        "Computer_choice = random.choice([\"Rock\", \"Paper\" , \"Scissors\"])\n",
        "\n",
        "print(f\"You chose: {User_choice}\")\n",
        "print(f\"Computer chose: {Computer_choice}\")\n",
        "\n",
        "if(User_choice==Computer_choice):\n",
        "  print(\"Tie\")\n",
        "\n",
        "elif (\n",
        "    (User_choice == \"Rock\" and Computer_choice == \"Scissors\") or\n",
        "    (User_choice == \"Paper\" and Computer_choice == \"Rock\") or\n",
        "    (User_choice == \"Scissors\" and Computer_choice == \"Paper\")\n",
        "):\n",
        "  print(\"You win!\")\n",
        "\n",
        "else:\n",
        "  print(\"Computer wins!\")"
      ]
    }
  ]
}