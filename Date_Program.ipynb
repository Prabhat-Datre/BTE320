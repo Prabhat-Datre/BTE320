{
  "nbformat": 4,
  "nbformat_minor": 0,
  "metadata": {
    "colab": {
      "provenance": [],
      "authorship_tag": "ABX9TyMbuB1bJBUnLHmrue0yjIwF",
      "include_colab_link": true
    },
    "kernelspec": {
      "name": "python3",
      "display_name": "Python 3"
    },
    "language_info": {
      "name": "python"
    }
  },
  "cells": [
    {
      "cell_type": "markdown",
      "metadata": {
        "id": "view-in-github",
        "colab_type": "text"
      },
      "source": [
        "<a href=\"https://colab.research.google.com/github/Prabhat-Datre/BTE320/blob/main/Date_Program.ipynb\" target=\"_parent\"><img src=\"https://colab.research.google.com/assets/colab-badge.svg\" alt=\"Open In Colab\"/></a>"
      ]
    },
    {
      "cell_type": "code",
      "execution_count": null,
      "metadata": {
        "id": "pG4Y7AIOQ2Ok"
      },
      "outputs": [],
      "source": [
        "st = input(\"Enter Date (MM/DD/YYYY): \")\n",
        "m = st[:2]\n",
        "d = st[3:5]\n",
        "y = st[6:len(st)]\n",
        "print(f'Month = {m}, Day = {d}, Year = {y}')"
      ]
    }
  ]
}