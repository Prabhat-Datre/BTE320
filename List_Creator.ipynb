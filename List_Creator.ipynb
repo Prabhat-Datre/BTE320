{
  "nbformat": 4,
  "nbformat_minor": 0,
  "metadata": {
    "colab": {
      "provenance": [],
      "authorship_tag": "ABX9TyPJfSZUAUDvLTStTQOddA/4",
      "include_colab_link": true
    },
    "kernelspec": {
      "name": "python3",
      "display_name": "Python 3"
    },
    "language_info": {
      "name": "python"
    }
  },
  "cells": [
    {
      "cell_type": "markdown",
      "metadata": {
        "id": "view-in-github",
        "colab_type": "text"
      },
      "source": [
        "<a href=\"https://colab.research.google.com/github/Prabhat-Datre/BTE320/blob/main/List_Creator.ipynb\" target=\"_parent\"><img src=\"https://colab.research.google.com/assets/colab-badge.svg\" alt=\"Open In Colab\"/></a>"
      ]
    },
    {
      "cell_type": "code",
      "execution_count": null,
      "metadata": {
        "id": "DuToxp3ZRpOI"
      },
      "outputs": [],
      "source": [
        "List = []\n",
        "while True:\n",
        "  uInput = int(input('Enter an integer to append to the list:'))\n",
        "  if uInput == 0:\n",
        "    break\n",
        "  List.append(uInput)\n",
        "  print(f'Here is your current list: {List}')\n",
        "\n",
        "print(f'Here is your list: {List}')"
      ]
    }
  ]
}